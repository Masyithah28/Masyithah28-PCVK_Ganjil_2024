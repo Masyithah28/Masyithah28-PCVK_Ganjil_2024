{
  "nbformat": 4,
  "nbformat_minor": 0,
  "metadata": {
    "colab": {
      "provenance": [],
      "authorship_tag": "ABX9TyNMrblCykteuIA0ylmVQeOh",
      "include_colab_link": true
    },
    "kernelspec": {
      "name": "python3",
      "display_name": "Python 3"
    },
    "language_info": {
      "name": "python"
    }
  },
  "cells": [
    {
      "cell_type": "markdown",
      "metadata": {
        "id": "view-in-github",
        "colab_type": "text"
      },
      "source": [
        "<a href=\"https://colab.research.google.com/github/Masyithah28/Masyithah28-PCVK_Ganjil_2024/blob/main/Modul3.ipynb\" target=\"_parent\"><img src=\"https://colab.research.google.com/assets/colab-badge.svg\" alt=\"Open In Colab\"/></a>"
      ]
    },
    {
      "cell_type": "markdown",
      "source": [
        "# MODUL 3 - Operasi Citra Sederhana – Linier Brightness, Contrast,Inverse, Logarithmic Brightness, dan Grayscale Image\n",
        "\n",
        "Nama  : Masyithah Sophia Damayanti\n",
        "Kelas : TI - 3C\n",
        "NIM   : 2241720011\n",
        "No    : 15\n",
        "[Github](https://)\n",
        "[Google Colab](https://colab.research.google.com/drive/1svgA0DkSOhgUYfakVEzaB5VtcxvVc2oc?usp=sharing)"
      ],
      "metadata": {
        "id": "lTxR7bMltwZ8"
      }
    },
    {
      "cell_type": "code",
      "execution_count": null,
      "metadata": {
        "id": "l1avH5ugtsTI"
      },
      "outputs": [],
      "source": []
    }
  ]
}